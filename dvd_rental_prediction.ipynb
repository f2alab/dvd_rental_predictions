{
 "cells": [
  {
   "cell_type": "markdown",
   "id": "efb84e19",
   "metadata": {},
   "source": [
    "# **Use regression models to predict the number of days a customer rents DVDs for**"
   ]
  },
  {
   "cell_type": "markdown",
   "id": "51cb22ef",
   "metadata": {},
   "source": [
    "## **Pre-process the data**"
   ]
  },
  {
   "cell_type": "markdown",
   "id": "497d5e18",
   "metadata": {},
   "source": [
    "### 1. Import libraries"
   ]
  },
  {
   "cell_type": "code",
   "execution_count": 41,
   "id": "3882acb2",
   "metadata": {},
   "outputs": [],
   "source": [
    "# Import necessary libraries\n",
    "import numpy as np\n",
    "import pandas as pd\n",
    "import matplotlib.pyplot as plt\n",
    "import seaborn as sns\n",
    "from utils.utils import draw_stars_line\n"
   ]
  },
  {
   "cell_type": "markdown",
   "id": "3faca6bb",
   "metadata": {},
   "source": [
    "### 2. Read Data with pandas"
   ]
  },
  {
   "cell_type": "code",
   "execution_count": 42,
   "id": "4c748ee5",
   "metadata": {},
   "outputs": [
    {
     "name": "stdout",
     "output_type": "stream",
     "text": [
      "                 rental_date                return_date  amount  release_year  \\\n",
      "0  2005-05-25 02:54:33+00:00  2005-05-28 23:40:33+00:00    2.99        2005.0   \n",
      "\n",
      "   rental_rate  length  replacement_cost                special_features  \\\n",
      "0         2.99   126.0             16.99  {Trailers,\"Behind the Scenes\"}   \n",
      "\n",
      "   NC-17  PG  PG-13  R  amount_2  length_2  rental_rate_2  \n",
      "0      0   0      0  1    8.9401   15876.0         8.9401  \n"
     ]
    }
   ],
   "source": [
    "# Load Data\n",
    "data = pd.read_csv('dvd_rental_infos.csv')\n",
    "# Display the first few rows of the dataset\n",
    "print(data.head(1))"
   ]
  },
  {
   "cell_type": "code",
   "execution_count": 43,
   "id": "a1518490",
   "metadata": {},
   "outputs": [
    {
     "name": "stdout",
     "output_type": "stream",
     "text": [
      "<class 'pandas.core.frame.DataFrame'>\n",
      "RangeIndex: 15861 entries, 0 to 15860\n",
      "Data columns (total 15 columns):\n",
      " #   Column            Non-Null Count  Dtype  \n",
      "---  ------            --------------  -----  \n",
      " 0   rental_date       15861 non-null  object \n",
      " 1   return_date       15861 non-null  object \n",
      " 2   amount            15861 non-null  float64\n",
      " 3   release_year      15861 non-null  float64\n",
      " 4   rental_rate       15861 non-null  float64\n",
      " 5   length            15861 non-null  float64\n",
      " 6   replacement_cost  15861 non-null  float64\n",
      " 7   special_features  15861 non-null  object \n",
      " 8   NC-17             15861 non-null  int64  \n",
      " 9   PG                15861 non-null  int64  \n",
      " 10  PG-13             15861 non-null  int64  \n",
      " 11  R                 15861 non-null  int64  \n",
      " 12  amount_2          15861 non-null  float64\n",
      " 13  length_2          15861 non-null  float64\n",
      " 14  rental_rate_2     15861 non-null  float64\n",
      "dtypes: float64(8), int64(4), object(3)\n",
      "memory usage: 1.8+ MB\n",
      "None\n",
      "\n",
      "\n",
      "**************************************************\n",
      "\n",
      "0\n"
     ]
    }
   ],
   "source": [
    "# Display the data infos\n",
    "print(data.info())\n",
    "\n",
    "# Draw separation line\n",
    "draw_stars_line()\n",
    "\n",
    "# check for missing values\n",
    "print(data.isnull().any().sum())"
   ]
  },
  {
   "cell_type": "markdown",
   "id": "c08cbb82",
   "metadata": {},
   "source": [
    "1. Some columns in data have wrong data type: rental_date, return_date, year\n",
    "2. There are no missing values in columns"
   ]
  },
  {
   "cell_type": "markdown",
   "id": "58680076",
   "metadata": {},
   "source": [
    "### 3. Create a column named `rental_length_days` using the columns `return_date` and `rental_date`"
   ]
  },
  {
   "cell_type": "markdown",
   "id": "d3d3a45e",
   "metadata": {},
   "source": [
    "#### a. Convert `rental_date` and `return_date` to DateTime"
   ]
  },
  {
   "cell_type": "code",
   "execution_count": 44,
   "id": "3ba46a19",
   "metadata": {},
   "outputs": [
    {
     "name": "stdout",
     "output_type": "stream",
     "text": [
      "<class 'pandas.core.frame.DataFrame'>\n",
      "RangeIndex: 15861 entries, 0 to 15860\n",
      "Data columns (total 2 columns):\n",
      " #   Column       Non-Null Count  Dtype              \n",
      "---  ------       --------------  -----              \n",
      " 0   rental_date  15861 non-null  datetime64[ns, UTC]\n",
      " 1   return_date  15861 non-null  datetime64[ns, UTC]\n",
      "dtypes: datetime64[ns, UTC](2)\n",
      "memory usage: 248.0 KB\n",
      "None\n"
     ]
    }
   ],
   "source": [
    "# Convert 'rental_date' and return_date to datetime\n",
    "rental_date_col = 'rental_date'\n",
    "return_date_col = 'return_date'\n",
    "data[rental_date_col] = pd.to_datetime(data[rental_date_col])\n",
    "data[return_date_col] = pd.to_datetime(data[return_date_col])\n",
    "print(data[[rental_date_col, return_date_col]].info())\n"
   ]
  },
  {
   "cell_type": "markdown",
   "id": "61c99869",
   "metadata": {},
   "source": [
    "#### b. Add `rental_days_col` Column"
   ]
  },
  {
   "cell_type": "code",
   "execution_count": 45,
   "id": "c590082e",
   "metadata": {},
   "outputs": [
    {
     "name": "stdout",
     "output_type": "stream",
     "text": [
      "                rental_date               return_date  rental_length_days\n",
      "0 2005-05-25 02:54:33+00:00 2005-05-28 23:40:33+00:00                   3\n"
     ]
    }
   ],
   "source": [
    "# Add 'rental_lenght_data' column\n",
    "rental_length_days_col = 'rental_length_days'\n",
    "data[rental_length_days_col] = (data[return_date_col] - data[rental_date_col]).dt.days\n",
    "# Display the first few rows of the updated dataset\n",
    "print(data[[rental_date_col, return_date_col, rental_length_days_col]].head(1))"
   ]
  },
  {
   "cell_type": "markdown",
   "id": "91048ab4",
   "metadata": {},
   "source": [
    "### 4. Create two columns of dummy variables from `special_features` which takes the value of 1 when:\n",
    "#### - The value is `Deleted Scenes`, storing as a column called `deleted_scenes`.\n",
    "#### - The value is `Behind the Scenes`, storing as a column called `behind_the_scenes`"
   ]
  },
  {
   "cell_type": "code",
   "execution_count": 46,
   "id": "b6294838",
   "metadata": {},
   "outputs": [
    {
     "name": "stdout",
     "output_type": "stream",
     "text": [
      "['{Trailers,\"Behind the Scenes\"}' '{Trailers}'\n",
      " '{Commentaries,\"Behind the Scenes\"}' '{Trailers,Commentaries}'\n",
      " '{\"Deleted Scenes\",\"Behind the Scenes\"}'\n",
      " '{Commentaries,\"Deleted Scenes\",\"Behind the Scenes\"}'\n",
      " '{Trailers,Commentaries,\"Deleted Scenes\"}' '{\"Behind the Scenes\"}'\n",
      " '{Trailers,\"Deleted Scenes\",\"Behind the Scenes\"}'\n",
      " '{Commentaries,\"Deleted Scenes\"}' '{Commentaries}'\n",
      " '{Trailers,Commentaries,\"Behind the Scenes\"}'\n",
      " '{Trailers,\"Deleted Scenes\"}' '{\"Deleted Scenes\"}'\n",
      " '{Trailers,Commentaries,\"Deleted Scenes\",\"Behind the Scenes\"}']\n"
     ]
    }
   ],
   "source": [
    "# Columns variables\n",
    "special_features_col = 'special_features'\n",
    "deleted_col= 'deleted_scenes'\n",
    "behind_the_scenes_col = 'behind_the_scenes'\n",
    "# Check for special features\n",
    "print(data[special_features_col].unique())"
   ]
  },
  {
   "cell_type": "markdown",
   "id": "f78d64fc",
   "metadata": {},
   "source": [
    "#### a. `deleted_scences` Column"
   ]
  },
  {
   "cell_type": "code",
   "execution_count": 47,
   "id": "f4a79623",
   "metadata": {},
   "outputs": [],
   "source": [
    "# Add deleted_scenes Column\n",
    "data[deleted_col] = np.where(data[special_features_col].str.contains('Deleted Scenes'), 1, 0)"
   ]
  },
  {
   "cell_type": "markdown",
   "id": "66b3a627",
   "metadata": {},
   "source": [
    "#### b. `behind_the_scenes` Column"
   ]
  },
  {
   "cell_type": "code",
   "execution_count": 48,
   "id": "322bf880",
   "metadata": {},
   "outputs": [],
   "source": [
    "# Add behind_the_scenes Column\n",
    "data[behind_the_scenes_col] = np.where(data[special_features_col].str.contains('Behind the Scenes'), 1, 0)"
   ]
  },
  {
   "cell_type": "code",
   "execution_count": 49,
   "id": "66a5088c",
   "metadata": {},
   "outputs": [
    {
     "name": "stdout",
     "output_type": "stream",
     "text": [
      "   deleted_scenes  behind_the_scenes\n",
      "0               0                  1\n",
      "1               0                  1\n",
      "2               0                  1\n",
      "3               0                  1\n",
      "4               0                  1\n"
     ]
    }
   ],
   "source": [
    "# Check deleted_scenes and behind_the_scenes columns\n",
    "print(data[[deleted_col, behind_the_scenes_col]].head(5))\n"
   ]
  },
  {
   "cell_type": "markdown",
   "id": "63fa1d2e",
   "metadata": {},
   "source": [
    "### 5. Make Features and Target variables\n",
    "#### - X: containing all the appropriate features you can use to run the regression models, avoiding columns that leak data about the target.\n",
    "#### - y: Choose the \"rental_length_days\" as the target column and save it as a pandas Series called."
   ]
  },
  {
   "cell_type": "markdown",
   "id": "47afe211",
   "metadata": {},
   "source": [
    "#### a. `Features variables`"
   ]
  },
  {
   "cell_type": "code",
   "execution_count": 50,
   "id": "976dbc5b",
   "metadata": {},
   "outputs": [
    {
     "name": "stdout",
     "output_type": "stream",
     "text": [
      "Index(['rental_date', 'return_date', 'amount', 'release_year', 'rental_rate',\n",
      "       'length', 'replacement_cost', 'special_features', 'NC-17', 'PG',\n",
      "       'PG-13', 'R', 'amount_2', 'length_2', 'rental_rate_2',\n",
      "       'rental_length_days', 'deleted_scenes', 'behind_the_scenes'],\n",
      "      dtype='object')\n",
      "\n",
      "\n",
      "**************************************************\n",
      "\n",
      "Shape of X: (15861, 14)\n"
     ]
    }
   ],
   "source": [
    "# Features variables X\n",
    "print(data.columns)\n",
    "\n",
    "# Draw separation line\n",
    "draw_stars_line()\n",
    "\n",
    "col_to_drop = [ rental_date_col, return_date_col, special_features_col, rental_length_days_col]\n",
    "# Drop unnecessary columns\n",
    "X = data.drop(columns=col_to_drop).values\n",
    "print(\"Shape of X:\", X.shape)\n"
   ]
  },
  {
   "cell_type": "markdown",
   "id": "7d8d0ff8",
   "metadata": {},
   "source": [
    "#### a. `Target variable`"
   ]
  },
  {
   "cell_type": "code",
   "execution_count": 51,
   "id": "4098099f",
   "metadata": {},
   "outputs": [
    {
     "name": "stdout",
     "output_type": "stream",
     "text": [
      "Shape of y: (15861,)\n"
     ]
    }
   ],
   "source": [
    "# Target variable y\n",
    "y = data[rental_length_days_col].values\n",
    "print(\"Shape of y:\", y.shape)"
   ]
  },
  {
   "cell_type": "markdown",
   "id": "d342a44f",
   "metadata": {},
   "source": [
    "### 6. Make prediction using Regression models\n"
   ]
  },
  {
   "cell_type": "markdown",
   "id": "b10f52a1",
   "metadata": {},
   "source": [
    "#### a. Split data to Train and test set, include 20% of the total data in the test set, with random state to 9"
   ]
  },
  {
   "cell_type": "code",
   "execution_count": 52,
   "id": "d1ca8da0",
   "metadata": {},
   "outputs": [],
   "source": [
    "# Split the dataset into training and testing sets\n",
    "from sklearn.model_selection import train_test_split\n",
    "X_train, X_test, y_train, y_test = train_test_split(X, y, test_size=0.2, random_state=9)\n"
   ]
  },
  {
   "cell_type": "markdown",
   "id": "9146c898",
   "metadata": {},
   "source": [
    "#### b. Import Regression models libraries"
   ]
  },
  {
   "cell_type": "code",
   "execution_count": null,
   "id": "81b6d603",
   "metadata": {},
   "outputs": [],
   "source": [
    "# import LinearRegression\n",
    "from sklearn.linear_model import LinearRegression\n",
    "# import Lasso\n",
    "from sklearn.linear_model import Lasso\n",
    "# import Ridge\n",
    "from sklearn.linear_model import Ridge\n",
    "# import RandomForestRegressor\n",
    "from sklearn.ensemble import RandomForestRegressor\n",
    "# import GradientBoostingRegressor\n",
    "from sklearn.ensemble import GradientBoostingRegressor\n",
    "# import necessary libraries for evaluation\n",
    "from sklearn.metrics import root_mean_squared_error"
   ]
  },
  {
   "cell_type": "markdown",
   "id": "55c96b7c",
   "metadata": {},
   "source": [
    "#### c. Create and evaluate models"
   ]
  },
  {
   "cell_type": "code",
   "execution_count": 58,
   "id": "a96fc6ca",
   "metadata": {},
   "outputs": [
    {
     "name": "stdout",
     "output_type": "stream",
     "text": [
      "                         Model  Mean Squared Error\n",
      "3      Random Forest Regressor            2.030142\n",
      "4  Gradient Boosting Regressor            2.425346\n",
      "0            Linear Regression            2.941724\n",
      "2             Ridge Regression            2.941727\n",
      "1             Lasso Regression            3.118637\n"
     ]
    }
   ],
   "source": [
    "# create a list of models\n",
    "models = [\n",
    "    ('Linear Regression', LinearRegression()),\n",
    "    ('Lasso Regression', Lasso(alpha=0.1)),\n",
    "    ('Ridge Regression', Ridge(alpha=0.1)),\n",
    "    ('Random Forest Regressor', RandomForestRegressor(n_estimators=100, random_state=9)),\n",
    "    ('Gradient Boosting Regressor', GradientBoostingRegressor(n_estimators=100, random_state=9))\n",
    "]\n",
    "\n",
    "# Evaluate each model\n",
    "def evaluate_models(models, X_train, y_train, X_test, y_test):\n",
    "    results = []\n",
    "    for name, model in models:\n",
    "        model.fit(X_train, y_train)\n",
    "        mse = np.mean((model.predict(X_test) - y_test) ** 2)\n",
    "        results.append((name, mse))\n",
    "    return results\n",
    "\n",
    "# Evaluate the models\n",
    "results = evaluate_models(models, X_train, y_train, X_test, y_test)\n",
    "\n",
    "# Convert results to DataFrame for better visualization\n",
    "results_df = pd.DataFrame(results, columns=['Model', 'Mean Squared Error'])\n",
    "# Sort the results by Mean Squared Error\n",
    "results_df.sort_values(by='Mean Squared Error', ascending=True, inplace=True)\n",
    "# Display the results\n",
    "print(results_df)\n",
    "\n"
   ]
  },
  {
   "cell_type": "markdown",
   "id": "094378dd",
   "metadata": {},
   "source": [
    "#### d. Plots models Mean squared error"
   ]
  },
  {
   "cell_type": "code",
   "execution_count": null,
   "id": "ad210a44",
   "metadata": {},
   "outputs": [],
   "source": [
    "# Plot the results\n",
    "plt.figure(figsize=(10, 6))\n",
    "sns.barplot(x='Mean Squared Error', y='Model', data=results_df, palette='viridis')\n",
    "plt.title('Model Comparison: Mean Squared Error')\n",
    "plt.xlabel('Mean Squared Error')\n",
    "plt.ylabel('Model')\n",
    "plt.tight_layout()\n",
    "plt.show()\n"
   ]
  },
  {
   "cell_type": "markdown",
   "id": "b94e9462",
   "metadata": {},
   "source": [
    "#### e. Model yielding a mean squared error (MSE) less than 3 on the test set:\n",
    "- `best_model` and\n",
    "- `best_mse`"
   ]
  },
  {
   "cell_type": "code",
   "execution_count": null,
   "id": "819d2825",
   "metadata": {},
   "outputs": [
    {
     "name": "stdout",
     "output_type": "stream",
     "text": [
      "The best model is: Random Forest Regressor\n",
      "Best Mean Squared Error: 2.030141907417274\n"
     ]
    }
   ],
   "source": [
    "# Best model\n",
    "best_model = results_df.iloc[0]['Model']\n",
    "print(f\"The best model is: {best_model}\")\n",
    "\n",
    "# Best Mean Squared Error\n",
    "best_mse = results_df.iloc[0]['Mean Squared Error']\n",
    "print(f\"Best Mean Squared Error: {best_mse}\")"
   ]
  }
 ],
 "metadata": {
  "kernelspec": {
   "display_name": "Python 3",
   "language": "python",
   "name": "python3"
  },
  "language_info": {
   "codemirror_mode": {
    "name": "ipython",
    "version": 3
   },
   "file_extension": ".py",
   "mimetype": "text/x-python",
   "name": "python",
   "nbconvert_exporter": "python",
   "pygments_lexer": "ipython3",
   "version": "3.13.3"
  }
 },
 "nbformat": 4,
 "nbformat_minor": 5
}
